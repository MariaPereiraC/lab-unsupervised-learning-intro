{
 "cells": [
  {
   "cell_type": "code",
   "execution_count": 2,
   "id": "f3107f22",
   "metadata": {},
   "outputs": [],
   "source": [
    "import numpy as np\n",
    "import matplotlib.pyplot as plt\n",
    "\n",
    "from sklearn import cluster, datasets\n",
    "from sklearn.preprocessing import StandardScaler\n",
    "from matplotlib.lines import Line2D\n",
    "\n",
    "\n",
    "import pandas as pd\n",
    "#from sklearn import datasets\n"
   ]
  },
  {
   "cell_type": "code",
   "execution_count": 26,
   "id": "889bb524",
   "metadata": {},
   "outputs": [
    {
     "data": {
      "text/plain": [
       "(14495, 23)"
      ]
     },
     "execution_count": 26,
     "metadata": {},
     "output_type": "execute_result"
    }
   ],
   "source": [
    "start_df=pd.read_csv('master_playlist.csv')\n",
    "start_df.shape"
   ]
  },
  {
   "cell_type": "code",
   "execution_count": 16,
   "id": "dc1093eb",
   "metadata": {},
   "outputs": [],
   "source": [
    "hot_songs=pd.read_csv('hotsongs.csv')"
   ]
  },
  {
   "cell_type": "code",
   "execution_count": 5,
   "id": "6ce1e01f",
   "metadata": {},
   "outputs": [],
   "source": [
    "import spotipy\n",
    "from spotipy.oauth2 import SpotifyClientCredentials"
   ]
  },
  {
   "cell_type": "code",
   "execution_count": 6,
   "id": "aacde646",
   "metadata": {},
   "outputs": [],
   "source": [
    "secrets_file = open(\"secrets.txt\",\"r\")"
   ]
  },
  {
   "cell_type": "code",
   "execution_count": 7,
   "id": "0540b9b7",
   "metadata": {},
   "outputs": [],
   "source": [
    "string = secrets_file.read()"
   ]
  },
  {
   "cell_type": "code",
   "execution_count": 8,
   "id": "03d145a0",
   "metadata": {},
   "outputs": [],
   "source": [
    "secrets_dict={}\n",
    "for line in string.split('\\n'):\n",
    "    if len(line) > 0:\n",
    "        #print(line.split(':'))\n",
    "        secrets_dict[line.split(':')[0]]=line.split(':')[1].strip()"
   ]
  },
  {
   "cell_type": "code",
   "execution_count": 9,
   "id": "0f930ab1",
   "metadata": {},
   "outputs": [],
   "source": [
    "import spotipy\n",
    "from spotipy.oauth2 import SpotifyClientCredentials\n",
    "\n",
    "#Initialize SpotiPy with user credentials\n",
    "sp = spotipy.Spotify(auth_manager=SpotifyClientCredentials(client_id=secrets_dict['Client ID'],\n",
    "                                                           client_secret=secrets_dict['Client Secret']))"
   ]
  },
  {
   "cell_type": "code",
   "execution_count": 10,
   "id": "fde9e3bb",
   "metadata": {},
   "outputs": [],
   "source": [
    "def search_spotify(song_title):\n",
    "    results = sp.search(q=song_title, type='track', limit=1)\n",
    "    if results['tracks']['items']:\n",
    "        track = results['tracks']['items'][0]\n",
    "        print(\"Song found on Spotify:\")\n",
    "        print(\"Title:\", track['name'])\n",
    "        print(\"song_id:\",track['id'])\n",
    "        #return all the columns in my cluster's dataframe\n",
    "        return track['id'],track['popularity']\n",
    "    else:\n",
    "        print(\"Song not found on Spotify.\")"
   ]
  },
  {
   "cell_type": "code",
   "execution_count": 11,
   "id": "fdd8b4a5",
   "metadata": {},
   "outputs": [],
   "source": [
    "def get_audio_features(song_id):\n",
    "    audio_features = sp.audio_features(song_id)\n",
    "    return audio_features"
   ]
  },
  {
   "cell_type": "code",
   "execution_count": 12,
   "id": "823ea287",
   "metadata": {},
   "outputs": [],
   "source": [
    "import pickle"
   ]
  },
  {
   "cell_type": "code",
   "execution_count": 13,
   "id": "614d6ccb",
   "metadata": {},
   "outputs": [],
   "source": [
    "X_prep_df=pd.read_pickle('X_prep.p')"
   ]
  },
  {
   "cell_type": "code",
   "execution_count": 14,
   "id": "3f2142db",
   "metadata": {},
   "outputs": [],
   "source": [
    "original_clusters = pickle.load(open('spotify_clusters.p','rb'))"
   ]
  },
  {
   "cell_type": "code",
   "execution_count": 18,
   "id": "6b8c9d40",
   "metadata": {},
   "outputs": [],
   "source": [
    "Scaler=pickle.load(open('spotify_scaler.p','rb'))"
   ]
  },
  {
   "cell_type": "code",
   "execution_count": 21,
   "id": "7d99ac10",
   "metadata": {},
   "outputs": [
    {
     "name": "stdout",
     "output_type": "stream",
     "text": [
      "Enter the song title: Behind the wheel\n",
      "Song found on Spotify:\n",
      "Title: Behind the Wheel - 2006 Remaster\n",
      "song_id: 2TPHQViCGVL2svjhqVDHOr\n"
     ]
    },
    {
     "ename": "TypeError",
     "evalue": "'numpy.ndarray' object is not callable",
     "output_type": "error",
     "traceback": [
      "\u001b[0;31m---------------------------------------------------------------------------\u001b[0m",
      "\u001b[0;31mTypeError\u001b[0m                                 Traceback (most recent call last)",
      "Cell \u001b[0;32mIn[21], line 21\u001b[0m\n\u001b[1;32m     19\u001b[0m X_audio \u001b[38;5;241m=\u001b[39m Scaler\u001b[38;5;241m.\u001b[39mtransform(audio_num)\n\u001b[1;32m     20\u001b[0m \u001b[38;5;66;03m#X_audio_df=pd.DataFrame(X_audio,columns=X_num.columns)\u001b[39;00m\n\u001b[0;32m---> 21\u001b[0m clusters1 \u001b[38;5;241m=\u001b[39m original_clusters(X_audio)\n\u001b[1;32m     22\u001b[0m target_value \u001b[38;5;241m=\u001b[39m clusters1[\u001b[38;5;241m0\u001b[39m]\n\u001b[1;32m     23\u001b[0m filtered_start_df\u001b[38;5;241m=\u001b[39mstart_df[start_df[\u001b[38;5;124m'\u001b[39m\u001b[38;5;124mcluster\u001b[39m\u001b[38;5;124m'\u001b[39m]\u001b[38;5;241m==\u001b[39mtarget_value]\n",
      "\u001b[0;31mTypeError\u001b[0m: 'numpy.ndarray' object is not callable"
     ]
    }
   ],
   "source": [
    "#ask user for input\n",
    "song_title = input(\"Enter the song title: \")\n",
    "\n",
    "\n",
    "hot_song_row = hot_songs[hot_songs['song_title'] == song_title]\n",
    "\n",
    "if not hot_song_row.empty:\n",
    "    print(\"Song found in hot_songs DataFrame:\")\n",
    "    print(hot_song_row)\n",
    "else:\n",
    "    song_id,popularity=search_spotify(song_title)\n",
    "    if song_id:\n",
    "        audio_features = get_audio_features(song_id)\n",
    "        audio_features_df=pd.DataFrame(audio_features)\n",
    "        new_column_name='popularity'\n",
    "        new_column_value=[popularity]\n",
    "        audio_features_df.insert(loc=0, column=new_column_name, value=new_column_value)\n",
    "        audio_num=audio_features_df.select_dtypes(include=np.number)\n",
    "        X_audio = Scaler.transform(audio_num)\n",
    "        #X_audio_df=pd.DataFrame(X_audio,columns=X_num.columns)\n",
    "        clusters1 = original_clusters(X_audio)\n",
    "        target_value = clusters1[0]\n",
    "        filtered_start_df=start_df[start_df['cluster']==target_value]\n",
    "        random_song=filtered_start_df.sample(n=1).reset_index(drop=True)\n",
    "        print(f\"Your recommended song is: {random_song.song_name.iloc[0]}, by: {random_song.name.iloc[0]}\")\n",
    "    else:\n",
    "        print(\"Song not found in spotify\")"
   ]
  },
  {
   "cell_type": "code",
   "execution_count": 23,
   "id": "4e39ba65",
   "metadata": {},
   "outputs": [
    {
     "data": {
      "text/plain": [
       "(1, 14)"
      ]
     },
     "execution_count": 23,
     "metadata": {},
     "output_type": "execute_result"
    }
   ],
   "source": [
    "X_audio.shape"
   ]
  },
  {
   "cell_type": "code",
   "execution_count": 25,
   "id": "878a49f3",
   "metadata": {},
   "outputs": [
    {
     "data": {
      "text/plain": [
       "(5, 14)"
      ]
     },
     "execution_count": 25,
     "metadata": {},
     "output_type": "execute_result"
    }
   ],
   "source": [
    "X_prep_df.shape"
   ]
  },
  {
   "cell_type": "code",
   "execution_count": null,
   "id": "35662737",
   "metadata": {},
   "outputs": [],
   "source": []
  }
 ],
 "metadata": {
  "kernelspec": {
   "display_name": "Python 3 (ipykernel)",
   "language": "python",
   "name": "python3"
  },
  "language_info": {
   "codemirror_mode": {
    "name": "ipython",
    "version": 3
   },
   "file_extension": ".py",
   "mimetype": "text/x-python",
   "name": "python",
   "nbconvert_exporter": "python",
   "pygments_lexer": "ipython3",
   "version": "3.11.5"
  }
 },
 "nbformat": 4,
 "nbformat_minor": 5
}
